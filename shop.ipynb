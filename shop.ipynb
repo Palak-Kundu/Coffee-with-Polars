{
 "cells": [
  {
   "cell_type": "code",
   "execution_count": 2,
   "id": "f0adda04",
   "metadata": {},
   "outputs": [],
   "source": [
    "import polars as pl\n",
    "import numpy as np\n",
    "from datetime import datetime, timedelta"
   ]
  },
  {
   "cell_type": "code",
   "execution_count": 3,
   "id": "4b5bf4ed",
   "metadata": {},
   "outputs": [],
   "source": [
    "np.random.seed(42)\n",
    "def generate_coffee_data():\n",
    "    n_records = 2000  # 2000 transactions over 6 months\n",
    "    #Menue:\n",
    "    menu_items = ['Espresso', 'Cappuccino', 'Latte', 'Americano', 'Mocha', 'Cold Brew']\n",
    "    prices = [2.50, 4.00, 4.50, 3.00, 5.00, 3.50]\n",
    "    # Getting dates over 6 months\n",
    "    start_date = datetime(2023, 6, 1)\n",
    "    dates = [start_date + timedelta(days=np.random.randint(0, 180))\n",
    "            for _ in range(n_records)]\n",
    "    data = {\n",
    "        'date': dates,\n",
    "        'drink': np.random.choice(menu_items, n_records),\n",
    "        'price': [prices[menu_items.index(drink)] for drink in\n",
    "                  np.random.choice(menu_items, n_records)],\n",
    "        'quantity': np.random.choice([1, 1, 1, 2, 2, 3], n_records),  # Most people buy 1\n",
    "        'customer_type': np.random.choice(['Regular', 'New', 'Tourist'],\n",
    "                                        n_records, p=[0.5, 0.3, 0.2]),\n",
    "        'payment_method': np.random.choice(['Card', 'Cash', 'Mobile'],\n",
    "                                         n_records, p=[0.6, 0.2, 0.2]),\n",
    "        'rating': np.random.choice([2,3, 4, 5], n_records, p=[0.1, 0.4, 0.4, 0.1])\n",
    "    }\n",
    "    return data\n",
    "# Coffee shop DataFrame\n",
    "coffee_data = generate_coffee_data()\n",
    "df = pl.DataFrame(coffee_data)"
   ]
  },
  {
   "cell_type": "code",
   "execution_count": 4,
   "id": "6102be33",
   "metadata": {},
   "outputs": [
    {
     "name": "stdout",
     "output_type": "stream",
     "text": [
      "First 5 transactions:\n",
      "shape: (5, 7)\n",
      "┌─────────────────────┬────────────┬───────┬──────────┬───────────────┬────────────────┬────────┐\n",
      "│ date                ┆ drink      ┆ price ┆ quantity ┆ customer_type ┆ payment_method ┆ rating │\n",
      "│ ---                 ┆ ---        ┆ ---   ┆ ---      ┆ ---           ┆ ---            ┆ ---    │\n",
      "│ datetime[μs]        ┆ str        ┆ f64   ┆ i32      ┆ str           ┆ str            ┆ i32    │\n",
      "╞═════════════════════╪════════════╪═══════╪══════════╪═══════════════╪════════════════╪════════╡\n",
      "│ 2023-09-11 00:00:00 ┆ Cold Brew  ┆ 5.0   ┆ 1        ┆ New           ┆ Cash           ┆ 4      │\n",
      "│ 2023-11-27 00:00:00 ┆ Cappuccino ┆ 4.5   ┆ 1        ┆ New           ┆ Card           ┆ 4      │\n",
      "│ 2023-09-01 00:00:00 ┆ Espresso   ┆ 4.5   ┆ 1        ┆ Regular       ┆ Card           ┆ 3      │\n",
      "│ 2023-06-15 00:00:00 ┆ Cappuccino ┆ 5.0   ┆ 1        ┆ New           ┆ Card           ┆ 4      │\n",
      "│ 2023-09-15 00:00:00 ┆ Mocha      ┆ 5.0   ┆ 2        ┆ Regular       ┆ Card           ┆ 3      │\n",
      "└─────────────────────┴────────────┴───────┴──────────┴───────────────┴────────────────┴────────┘\n",
      "\n",
      "Types of data?\n",
      "Schema([('date', Datetime(time_unit='us', time_zone=None)), ('drink', String), ('price', Float64), ('quantity', Int32), ('customer_type', String), ('payment_method', String), ('rating', Int32)])\n",
      "\n",
      "How big is the dataset?\n",
      "We have 2000 transactions and 7 columns\n"
     ]
    }
   ],
   "source": [
    "print(\"First 5 transactions:\")\n",
    "print(df.head())\n",
    "\n",
    "print(\"\\nTypes of data?\")\n",
    "print(df.schema)\n",
    "\n",
    "print(\"\\nHow big is the dataset?\")\n",
    "print(f\"We have {df.height} transactions and {df.width} columns\")"
   ]
  },
  {
   "cell_type": "code",
   "execution_count": 5,
   "id": "142fdf66",
   "metadata": {},
   "outputs": [
    {
     "name": "stdout",
     "output_type": "stream",
     "text": [
      "Sample of enhanced data:\n",
      "shape: (5, 11)\n",
      "┌─────────────┬────────────┬───────┬──────────┬───┬────────────┬─────────────┬───────┬─────────────┐\n",
      "│ date        ┆ drink      ┆ price ┆ quantity ┆ … ┆ total_sale ┆ day_of_week ┆ month ┆ hour_of_day │\n",
      "│ ---         ┆ ---        ┆ ---   ┆ ---      ┆   ┆ ---        ┆ ---         ┆ ---   ┆ ---         │\n",
      "│ datetime[μs ┆ str        ┆ f64   ┆ i32      ┆   ┆ f64        ┆ i8          ┆ i8    ┆ i8          │\n",
      "│ ]           ┆            ┆       ┆          ┆   ┆            ┆             ┆       ┆             │\n",
      "╞═════════════╪════════════╪═══════╪══════════╪═══╪════════════╪═════════════╪═══════╪═════════════╡\n",
      "│ 2023-09-11  ┆ Cold Brew  ┆ 5.0   ┆ 1        ┆ … ┆ 5.0        ┆ 1           ┆ 9     ┆ 0           │\n",
      "│ 00:00:00    ┆            ┆       ┆          ┆   ┆            ┆             ┆       ┆             │\n",
      "│ 2023-11-27  ┆ Cappuccino ┆ 4.5   ┆ 1        ┆ … ┆ 4.5        ┆ 1           ┆ 11    ┆ 0           │\n",
      "│ 00:00:00    ┆            ┆       ┆          ┆   ┆            ┆             ┆       ┆             │\n",
      "│ 2023-09-01  ┆ Espresso   ┆ 4.5   ┆ 1        ┆ … ┆ 4.5        ┆ 5           ┆ 9     ┆ 0           │\n",
      "│ 00:00:00    ┆            ┆       ┆          ┆   ┆            ┆             ┆       ┆             │\n",
      "│ 2023-06-15  ┆ Cappuccino ┆ 5.0   ┆ 1        ┆ … ┆ 5.0        ┆ 4           ┆ 6     ┆ 0           │\n",
      "│ 00:00:00    ┆            ┆       ┆          ┆   ┆            ┆             ┆       ┆             │\n",
      "│ 2023-09-15  ┆ Mocha      ┆ 5.0   ┆ 2        ┆ … ┆ 10.0       ┆ 5           ┆ 9     ┆ 0           │\n",
      "│ 00:00:00    ┆            ┆       ┆          ┆   ┆            ┆             ┆       ┆             │\n",
      "└─────────────┴────────────┴───────┴──────────┴───┴────────────┴─────────────┴───────┴─────────────┘\n"
     ]
    }
   ],
   "source": [
    "df_enhanced = df.with_columns([\n",
    "    #Revenue per transaction\n",
    "    (pl.col('price') * pl.col('quantity')).alias('total_sale'),\n",
    "\n",
    "    #Useful date components\n",
    "    pl.col('date').dt.weekday().alias('day_of_week'),\n",
    "    pl.col('date').dt.month().alias('month'),\n",
    "    pl.col('date').dt.hour().alias('hour_of_day')\n",
    "])\n",
    "\n",
    "print(\"Sample of enhanced data:\")\n",
    "print(df_enhanced.head())\n"
   ]
  },
  {
   "cell_type": "code",
   "execution_count": 6,
   "id": "9a7ebfde",
   "metadata": {},
   "outputs": [
    {
     "name": "stdout",
     "output_type": "stream",
     "text": [
      "Drink performance ranking:\n",
      "shape: (6, 4)\n",
      "┌────────────┬───────────────┬────────────┬────────────┐\n",
      "│ drink      ┆ total_revenue ┆ total_sold ┆ avg_rating │\n",
      "│ ---        ┆ ---           ┆ ---        ┆ ---        │\n",
      "│ str        ┆ f64           ┆ i32        ┆ f64        │\n",
      "╞════════════╪═══════════════╪════════════╪════════════╡\n",
      "│ Americano  ┆ 2242.0        ┆ 595        ┆ 3.476454   │\n",
      "│ Mocha      ┆ 2204.0        ┆ 591        ┆ 3.492711   │\n",
      "│ Espresso   ┆ 2119.5        ┆ 570        ┆ 3.514793   │\n",
      "│ Cold Brew  ┆ 2035.5        ┆ 556        ┆ 3.475758   │\n",
      "│ Cappuccino ┆ 1962.5        ┆ 521        ┆ 3.541139   │\n",
      "│ Latte      ┆ 1949.5        ┆ 514        ┆ 3.528846   │\n",
      "└────────────┴───────────────┴────────────┴────────────┘\n"
     ]
    }
   ],
   "source": [
    "drink_performance = (df_enhanced\n",
    "    .group_by('drink')\n",
    "    .agg([\n",
    "        pl.col('total_sale').sum().alias('total_revenue'),\n",
    "        pl.col('quantity').sum().alias('total_sold'),\n",
    "        pl.col('rating').mean().alias('avg_rating')\n",
    "    ])\n",
    "    .sort('total_revenue', descending=True)\n",
    ")\n",
    "\n",
    "print(\"Drink performance ranking:\")\n",
    "print(drink_performance)"
   ]
  },
  {
   "cell_type": "code",
   "execution_count": 7,
   "id": "b5fd9556",
   "metadata": {},
   "outputs": [
    {
     "name": "stdout",
     "output_type": "stream",
     "text": [
      "Daily business patterns:\n",
      "shape: (7, 3)\n",
      "┌─────────────┬───────────────┬────────────────────────┐\n",
      "│ day_of_week ┆ daily_revenue ┆ number_of_transactions │\n",
      "│ ---         ┆ ---           ┆ ---                    │\n",
      "│ i8          ┆ f64           ┆ u32                    │\n",
      "╞═════════════╪═══════════════╪════════════════════════╡\n",
      "│ 1           ┆ 2061.0        ┆ 324                    │\n",
      "│ 2           ┆ 1761.0        ┆ 276                    │\n",
      "│ 3           ┆ 1710.0        ┆ 278                    │\n",
      "│ 4           ┆ 1784.0        ┆ 288                    │\n",
      "│ 5           ┆ 1651.5        ┆ 265                    │\n",
      "│ 6           ┆ 1596.0        ┆ 259                    │\n",
      "│ 7           ┆ 1949.5        ┆ 310                    │\n",
      "└─────────────┴───────────────┴────────────────────────┘\n"
     ]
    }
   ],
   "source": [
    "daily_patterns = (df_enhanced\n",
    "    .group_by('day_of_week')\n",
    "    .agg([\n",
    "        pl.col('total_sale').sum().alias('daily_revenue'),\n",
    "        pl.len().alias('number_of_transactions')\n",
    "    ])\n",
    "    .sort('day_of_week')\n",
    ")\n",
    "\n",
    "print(\"Daily business patterns:\")\n",
    "print(daily_patterns)\n"
   ]
  },
  {
   "cell_type": "code",
   "execution_count": null,
   "id": "dde31701",
   "metadata": {},
   "outputs": [],
   "source": []
  }
 ],
 "metadata": {
  "kernelspec": {
   "display_name": "base",
   "language": "python",
   "name": "python3"
  },
  "language_info": {
   "codemirror_mode": {
    "name": "ipython",
    "version": 3
   },
   "file_extension": ".py",
   "mimetype": "text/x-python",
   "name": "python",
   "nbconvert_exporter": "python",
   "pygments_lexer": "ipython3",
   "version": "3.11.5"
  }
 },
 "nbformat": 4,
 "nbformat_minor": 5
}
